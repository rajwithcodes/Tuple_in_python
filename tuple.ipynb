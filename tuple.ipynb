{
 "cells": [
  {
   "cell_type": "code",
   "execution_count": 28,
   "id": "7ca766aa",
   "metadata": {},
   "outputs": [
    {
     "name": "stdout",
     "output_type": "stream",
     "text": [
      "(1, 2, 3)\n",
      "('R', 'A', 'J')\n",
      "(True, False)\n",
      "1\n",
      "2\n",
      "3\n",
      "R\n",
      "A\n",
      "J\n",
      "True\n",
      "False\n"
     ]
    }
   ],
   "source": [
    "#nested Tuples\n",
    "nested_tuples=((1,2,3),(\"R\",\"A\",\"J\"),(True,False))\n",
    "print(nested_tuples[0])\n",
    "print(nested_tuples[1])\n",
    "print(nested_tuples[2])\n",
    "print(nested_tuples[0][0])\n",
    "print(nested_tuples[0][1])\n",
    "print(nested_tuples[0][2])\n",
    "print(nested_tuples[1][0])\n",
    "print(nested_tuples[1][1])\n",
    "print(nested_tuples[1][2])\n",
    "print(nested_tuples[2][0])\n",
    "print(nested_tuples[2][1])\n"
   ]
  },
  {
   "cell_type": "code",
   "execution_count": null,
   "id": "5fc1bfe5",
   "metadata": {},
   "outputs": [
    {
     "name": "stdout",
     "output_type": "stream",
     "text": [
      "1 [2, 3] Hello\n"
     ]
    }
   ],
   "source": [
    "#unpacking with *\n",
    "#You can use * to grab multiple elements into a list during unpacking:\n",
    "a,*b,c=packed\n",
    "print(a,b,c)"
   ]
  },
  {
   "cell_type": "code",
   "execution_count": null,
   "id": "0a146a57",
   "metadata": {},
   "outputs": [
    {
     "name": "stdout",
     "output_type": "stream",
     "text": [
      "(1, 2, 3, 'Hello')\n",
      "1 2 3 Hello\n"
     ]
    }
   ],
   "source": [
    "#packing and unpacking\n",
    "#Packing means assigning multiple values into a single variable, automatically creating a tuple.\n",
    "#Unpacking means extracting values from a tuple and assigning them to individual variables.\n",
    "packed=1,2,3,\"Hello\"\n",
    "print(packed)\n",
    "\n",
    "a,b,c,d=packed\n",
    "print(a,b,c,d)\n"
   ]
  },
  {
   "cell_type": "code",
   "execution_count": null,
   "id": "6dd96cb8",
   "metadata": {},
   "outputs": [
    {
     "name": "stdout",
     "output_type": "stream",
     "text": [
      "3\n",
      "8 index\n"
     ]
    }
   ],
   "source": [
    "#Tuple methods\n",
    "numberss=(11,2,4,3,4,3,11,5,0,10,4)\n",
    "#.count\n",
    "print(numberss.count(4))\n",
    "#.index\n",
    "print(str(numberss.index(0))+\" index\")\n",
    "\n",
    "\n"
   ]
  },
  {
   "cell_type": "code",
   "execution_count": null,
   "id": "7d167d9e",
   "metadata": {},
   "outputs": [
    {
     "name": "stdout",
     "output_type": "stream",
     "text": [
      "(1, 2, 3, 4, 5, 'Raj', 'Akash', 'Vishal')\n",
      "(1, 2, 3, 4, 5, 1, 2, 3, 4, 5, 1, 2, 3, 4, 5)\n",
      "('Raj', 'Akash', 'Vishal', 'Raj', 'Akash', 'Vishal', 'Raj', 'Akash', 'Vishal', 'Raj', 'Akash', 'Vishal', 'Raj', 'Akash', 'Vishal', 'Raj', 'Akash', 'Vishal', 'Raj', 'Akash', 'Vishal', 'Raj', 'Akash', 'Vishal')\n"
     ]
    }
   ],
   "source": [
    "#Operations\n",
    "#1 Concatination\n",
    "\n",
    "num=(1,2,3,4,5)\n",
    "name=(\"Raj\",\"Akash\",\"Vishal\")\n",
    "concat=num+name\n",
    "print(concat)\n",
    "#2 Repeating\n",
    "\n",
    "print(num*3)\n",
    "print(name*8)"
   ]
  },
  {
   "cell_type": "code",
   "execution_count": 16,
   "id": "340d66a4",
   "metadata": {},
   "outputs": [
    {
     "name": "stdout",
     "output_type": "stream",
     "text": [
      "1 hello R True\n",
      "(1, 'hello', 'R', True)\n",
      "('hello', 'R', True)\n",
      "('R', True)\n"
     ]
    }
   ],
   "source": [
    "\n",
    "print(mixed_tuple[0], mixed_tuple[1], mixed_tuple[2], mixed_tuple[3])\n",
    "print(mixed_tuple[0:4])\n",
    "print(mixed_tuple[1:4])\n",
    "print(mixed_tuple[2:4])"
   ]
  },
  {
   "cell_type": "code",
   "execution_count": 10,
   "id": "f963b35c",
   "metadata": {},
   "outputs": [
    {
     "name": "stdout",
     "output_type": "stream",
     "text": [
      "(1, 'hello', 'R', True)\n",
      "<class 'tuple'>\n"
     ]
    }
   ],
   "source": [
    "mixed_tuple=(1,\"hello\",'R',True)\n",
    "print(mixed_tuple)\n",
    "print(type(mixed_tuple))"
   ]
  },
  {
   "cell_type": "code",
   "execution_count": 9,
   "id": "6288b9eb",
   "metadata": {},
   "outputs": [
    {
     "data": {
      "text/plain": [
       "list[1, 2, 3, 4]"
      ]
     },
     "execution_count": 9,
     "metadata": {},
     "output_type": "execute_result"
    }
   ],
   "source": [
    "list[(1,2,3,4)]\n"
   ]
  },
  {
   "cell_type": "code",
   "execution_count": 7,
   "id": "7480d699",
   "metadata": {},
   "outputs": [
    {
     "data": {
      "text/plain": [
       "(1, 2, 3, 45)"
      ]
     },
     "execution_count": 7,
     "metadata": {},
     "output_type": "execute_result"
    }
   ],
   "source": [
    "numbers=tuple([1,2,3,45])\n",
    "numbers\n",
    "# print(type(numbers))"
   ]
  },
  {
   "cell_type": "code",
   "execution_count": null,
   "id": "8e86fcb0",
   "metadata": {},
   "outputs": [
    {
     "name": "stdout",
     "output_type": "stream",
     "text": [
      "()\n",
      "<class 'tuple'>\n",
      "<class 'tuple'>\n"
     ]
    }
   ],
   "source": [
    "empty_tuple=()\n",
    "print(empty_tuple)\n",
    "print(type(empty_tuple))\n"
   ]
  }
 ],
 "metadata": {
  "kernelspec": {
   "display_name": ".venv",
   "language": "python",
   "name": "python3"
  },
  "language_info": {
   "codemirror_mode": {
    "name": "ipython",
    "version": 3
   },
   "file_extension": ".py",
   "mimetype": "text/x-python",
   "name": "python",
   "nbconvert_exporter": "python",
   "pygments_lexer": "ipython3",
   "version": "3.12.3"
  }
 },
 "nbformat": 4,
 "nbformat_minor": 5
}
